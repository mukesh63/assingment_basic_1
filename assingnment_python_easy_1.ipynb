{
 "metadata": {
  "language_info": {
   "codemirror_mode": {
    "name": "ipython",
    "version": 3
   },
   "file_extension": ".py",
   "mimetype": "text/x-python",
   "name": "python",
   "nbconvert_exporter": "python",
   "pygments_lexer": "ipython3",
   "version": "3.8.3-final"
  },
  "orig_nbformat": 2,
  "kernelspec": {
   "name": "python3",
   "display_name": "Python 3.8.3 64-bit (conda)",
   "metadata": {
    "interpreter": {
     "hash": "95c10dbc6f7eccef0c1ace84822d618f7863d3bc26cab307fc0169bb43c23fbe"
    }
   }
  }
 },
 "nbformat": 4,
 "nbformat_minor": 2,
 "cells": [
  {
   "source": [
    "# Q1"
   ],
   "cell_type": "markdown",
   "metadata": {}
  },
  {
   "source": [
    "operators are used to create the mathematical operations and values are assingend to variables"
   ],
   "cell_type": "markdown",
   "metadata": {}
  },
  {
   "source": [
    "'*' 'is a multiplication operator'<br>\n",
    "'hello' is a string value <br>\n",
    "-87.8 is a floating value <br>\n",
    "'-' is subtract operator <br>\n",
    " ' / ' it does division of two numbers and gives quotient <br>\n",
    " '+' it is used as an adition operator and also it can add any two same type of data types<br>\n",
    " 6 it is a value and is data type is integer\n",
    "\n"
   ],
   "cell_type": "markdown",
   "metadata": {}
  },
  {
   "cell_type": "code",
   "execution_count": 4,
   "metadata": {},
   "outputs": [],
   "source": [
    "x = -87.8"
   ]
  },
  {
   "cell_type": "code",
   "execution_count": 5,
   "metadata": {},
   "outputs": [
    {
     "output_type": "execute_result",
     "data": {
      "text/plain": [
       "float"
      ]
     },
     "metadata": {},
     "execution_count": 5
    }
   ],
   "source": [
    "type(x)"
   ]
  },
  {
   "cell_type": "code",
   "execution_count": 7,
   "metadata": {},
   "outputs": [
    {
     "output_type": "stream",
     "name": "stdout",
     "text": [
      "2.0\n"
     ]
    }
   ],
   "source": [
    "a = 10\n",
    "b = 5\n",
    "c= a/b\n",
    "print(c)\n",
    "#so here the answer is the quotient"
   ]
  },
  {
   "cell_type": "code",
   "execution_count": 8,
   "metadata": {},
   "outputs": [
    {
     "output_type": "execute_result",
     "data": {
      "text/plain": [
       "'mukeshchoudhary'"
      ]
     },
     "metadata": {},
     "execution_count": 8
    }
   ],
   "source": [
    "x = 'mukesh'\n",
    "y = 'choudhary'\n",
    "x + y"
   ]
  },
  {
   "cell_type": "code",
   "execution_count": 9,
   "metadata": {},
   "outputs": [
    {
     "output_type": "execute_result",
     "data": {
      "text/plain": [
       "7"
      ]
     },
     "metadata": {},
     "execution_count": 9
    }
   ],
   "source": [
    "q = 3\n",
    "w = 4\n",
    "q + w"
   ]
  },
  {
   "source": [
    "# Q2"
   ],
   "cell_type": "markdown",
   "metadata": {}
  },
  {
   "source": [
    "A variable is is a container which contains an information in form of number of alaphabet or any imaginary data<br>\n",
    "also variable always start with alaphabet or underscore <br>\n",
    "\n",
    "Where as string is always writien in '' and inside this '' any thing will be considerd as string data type <br>\n",
    "so as per the question here spam is a variable and 'spam' is a string"
   ],
   "cell_type": "markdown",
   "metadata": {}
  },
  {
   "cell_type": "code",
   "execution_count": 19,
   "metadata": {},
   "outputs": [],
   "source": [
    "spam= 6"
   ]
  },
  {
   "cell_type": "code",
   "execution_count": 21,
   "metadata": {},
   "outputs": [
    {
     "output_type": "execute_result",
     "data": {
      "text/plain": [
       "str"
      ]
     },
     "metadata": {},
     "execution_count": 21
    }
   ],
   "source": [
    "x = 'spam'\n",
    "type(x)"
   ]
  },
  {
   "source": [
    "# Q3"
   ],
   "cell_type": "markdown",
   "metadata": {}
  },
  {
   "source": [
    "there are three types of data forms<br>\n",
    "1)integer <br>\n",
    "2)float <br>\n",
    "3) string<br>\n",
    "\n"
   ],
   "cell_type": "markdown",
   "metadata": {}
  },
  {
   "source": [
    "# Q4"
   ],
   "cell_type": "markdown",
   "metadata": {}
  },
  {
   "source": [
    "expression "
   ],
   "cell_type": "markdown",
   "metadata": {}
  },
  {
   "source": [
    "# Q5"
   ],
   "cell_type": "markdown",
   "metadata": {}
  },
  {
   "cell_type": "code",
   "execution_count": null,
   "metadata": {},
   "outputs": [],
   "source": []
  },
  {
   "source": [
    "# Q6"
   ],
   "cell_type": "markdown",
   "metadata": {}
  },
  {
   "cell_type": "code",
   "execution_count": 23,
   "metadata": {},
   "outputs": [
    {
     "output_type": "execute_result",
     "data": {
      "text/plain": [
       "23"
      ]
     },
     "metadata": {},
     "execution_count": 23
    }
   ],
   "source": [
    "bacon = 22\n",
    "bacon + 1\n",
    "#bacon contains 23"
   ]
  },
  {
   "source": [
    " # Q7"
   ],
   "cell_type": "markdown",
   "metadata": {}
  },
  {
   "cell_type": "code",
   "execution_count": 24,
   "metadata": {},
   "outputs": [
    {
     "output_type": "execute_result",
     "data": {
      "text/plain": [
       "'spamspamspam'"
      ]
     },
     "metadata": {},
     "execution_count": 24
    }
   ],
   "source": [
    "'spam' + 'spamspam'"
   ]
  },
  {
   "cell_type": "code",
   "execution_count": 25,
   "metadata": {},
   "outputs": [
    {
     "output_type": "execute_result",
     "data": {
      "text/plain": [
       "'spamspamspam'"
      ]
     },
     "metadata": {},
     "execution_count": 25
    }
   ],
   "source": [
    "'spam' * 3\n",
    "#both the equation gives a same output"
   ]
  },
  {
   "source": [
    "# Q8"
   ],
   "cell_type": "markdown",
   "metadata": {}
  },
  {
   "cell_type": "code",
   "execution_count": 26,
   "metadata": {},
   "outputs": [],
   "source": [
    "eggs = 10\n",
    "#here eggs is a  true variable beacuse it starts with an alaphabet which is a way one of the correct way of creating a variable "
   ]
  },
  {
   "cell_type": "code",
   "execution_count": null,
   "metadata": {},
   "outputs": [],
   "source": [
    "100 # is a integer it cannot be a variable since variable name cannot start from a number"
   ]
  },
  {
   "source": [
    "# Q9"
   ],
   "cell_type": "markdown",
   "metadata": {}
  },
  {
   "cell_type": "code",
   "execution_count": 30,
   "metadata": {},
   "outputs": [
    {
     "output_type": "stream",
     "name": "stdout",
     "text": [
      "<class 'int'>\n<class 'float'>\n<class 'str'>\n"
     ]
    }
   ],
   "source": [
    "a = int(input(''))\n",
    "b = float(input(''))\n",
    "c = str(input(''))\n",
    "print(type(a))\n",
    "print(type(b))\n",
    "print(type(c))"
   ]
  },
  {
   "source": [
    "# Q10"
   ],
   "cell_type": "markdown",
   "metadata": {}
  },
  {
   "cell_type": "code",
   "execution_count": 34,
   "metadata": {},
   "outputs": [
    {
     "output_type": "execute_result",
     "data": {
      "text/plain": [
       "'I have eaten99burritos.'"
      ]
     },
     "metadata": {},
     "execution_count": 34
    }
   ],
   "source": [
    "'I have eaten' + '99' + 'burritos.'\n",
    "#here the error is that we can concatenate only same data types so string and int are different data types of + operation cannot be done \n",
    "# to solve this error just type 99 in '' so that it will be considered as string and then all there of them will be of same data types and there wont be any error "
   ]
  },
  {
   "cell_type": "code",
   "execution_count": null,
   "metadata": {},
   "outputs": [],
   "source": []
  }
 ]
}